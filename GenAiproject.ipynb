{
 "cells": [
  {
   "cell_type": "markdown",
   "id": "5b9bc577-1a01-4df4-ba34-8a94d39d3c02",
   "metadata": {},
   "source": [
    "# This is my GenAi Project"
   ]
  },
  {
   "cell_type": "code",
   "execution_count": 1,
   "id": "3e6ccb67-30d7-4146-8ef8-6416c341891c",
   "metadata": {},
   "outputs": [],
   "source": [
    "from langchain_community.document_loaders import PyPDFLoader\n",
    "\n",
    "loader = PyPDFLoader('tcs report.pdf')"
   ]
  },
  {
   "cell_type": "code",
   "execution_count": null,
   "id": "eb83f334-84d7-4839-adfa-b720913000d3",
   "metadata": {},
   "outputs": [],
   "source": []
  }
 ],
 "metadata": {
  "kernelspec": {
   "display_name": "Python 3 (ipykernel)",
   "language": "python",
   "name": "python3"
  },
  "language_info": {
   "codemirror_mode": {
    "name": "ipython",
    "version": 3
   },
   "file_extension": ".py",
   "mimetype": "text/x-python",
   "name": "python",
   "nbconvert_exporter": "python",
   "pygments_lexer": "ipython3",
   "version": "3.13.5"
  }
 },
 "nbformat": 4,
 "nbformat_minor": 5
}
