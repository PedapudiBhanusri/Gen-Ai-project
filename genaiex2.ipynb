{
 "cells": [
  {
   "cell_type": "markdown",
   "id": "dadeddb1-2993-43fa-ac2b-bd330217d501",
   "metadata": {},
   "source": [
    "# GenAi ex 2"
   ]
  },
  {
   "cell_type": "code",
   "execution_count": 1,
   "id": "ec6462a7-da23-476b-972e-0f86a0fd1d54",
   "metadata": {},
   "outputs": [
    {
     "data": {
      "text/plain": [
       "' \\n1.load pdf using document loader\\n2.split documents into chunks using text splitter\\n'"
      ]
     },
     "execution_count": 1,
     "metadata": {},
     "output_type": "execute_result"
    }
   ],
   "source": [
    "''' \n",
    "1.load pdf using document loader\n",
    "2.split documents into chunks using text splitter\n",
    "'''"
   ]
  },
  {
   "cell_type": "markdown",
   "id": "2ae13144-0fdb-45f2-9fd5-28ec446cb4cb",
   "metadata": {},
   "source": [
    "## 1.load the pdf using document loader"
   ]
  },
  {
   "cell_type": "code",
   "execution_count": 3,
   "id": "7e6cbd6f-7224-48dc-b04c-e293c1a3d7ca",
   "metadata": {},
   "outputs": [],
   "source": [
    "from langchain_community.document_loaders import PyPDFLoader\n",
    "# we are creating object for pypdfloader \n",
    "loader = PyPDFLoader('tcs report.pdf')"
   ]
  },
  {
   "cell_type": "code",
   "execution_count": 4,
   "id": "cbe889fe-3735-4c36-af79-ee84a710991a",
   "metadata": {},
   "outputs": [],
   "source": [
    "# let us see methods of pypdfloader\n",
    "mydocuments=loader.load()"
   ]
  },
  {
   "cell_type": "code",
   "execution_count": 5,
   "id": "02d0f994-86bf-4fce-a43e-f01197266bcd",
   "metadata": {},
   "outputs": [
    {
     "data": {
      "text/plain": [
       "'Integrated Annual Report 2024-25\\n2024-25\\nIntegrated Annual Report'"
      ]
     },
     "execution_count": 5,
     "metadata": {},
     "output_type": "execute_result"
    }
   ],
   "source": [
    "mydocuments[0].page_content"
   ]
  },
  {
   "cell_type": "code",
   "execution_count": 6,
   "id": "2fa8fa39-a786-44c1-9e99-8a961040715b",
   "metadata": {},
   "outputs": [
    {
     "data": {
      "text/plain": [
       "65"
      ]
     },
     "execution_count": 6,
     "metadata": {},
     "output_type": "execute_result"
    }
   ],
   "source": [
    "len(mydocuments[0].page_content)"
   ]
  },
  {
   "cell_type": "code",
   "execution_count": 7,
   "id": "5e529eea-fbae-439f-aa16-38c3d0111415",
   "metadata": {},
   "outputs": [
    {
     "data": {
      "text/plain": [
       "1011"
      ]
     },
     "execution_count": 7,
     "metadata": {},
     "output_type": "execute_result"
    }
   ],
   "source": [
    "len(mydocuments[2].page_content)"
   ]
  },
  {
   "cell_type": "code",
   "execution_count": 13,
   "id": "e784e31a-6b37-4e3b-9c36-11f57401db5c",
   "metadata": {},
   "outputs": [
    {
     "data": {
      "text/plain": [
       "166"
      ]
     },
     "execution_count": 13,
     "metadata": {},
     "output_type": "execute_result"
    }
   ],
   "source": [
    "words_in_2ndpage=mydocuments[2].page_content.split()\n",
    "#for item in words_in_2ndpage:\n",
    "      #print(item)\n",
    "len(words_in_2ndpage)"
   ]
  },
  {
   "cell_type": "markdown",
   "id": "c699d622-099a-4798-8e45-74c958e5724f",
   "metadata": {},
   "source": [
    "## step2: split documents into chunks of propersize"
   ]
  },
  {
   "cell_type": "code",
   "execution_count": 14,
   "id": "cf599466-63d1-4e74-a4be-9111fee89864",
   "metadata": {},
   "outputs": [],
   "source": [
    "#import required softwares for text splitting\n",
    "from langchain_text_splitters import RecursiveCharacterTextSplitter"
   ]
  },
  {
   "cell_type": "code",
   "execution_count": 16,
   "id": "a264a111-12d3-4390-a424-9bf04fc4def0",
   "metadata": {},
   "outputs": [],
   "source": [
    "text_splitter = RecursiveCharacterTextSplitter(\n",
    "    # Set a really small chunk size, just to show.\n",
    "    chunk_size=100,\n",
    "    chunk_overlap=100,\n",
    ")"
   ]
  },
  {
   "cell_type": "code",
   "execution_count": 17,
   "id": "59007d52-0267-45ef-84ea-5b74a4bb8bc6",
   "metadata": {},
   "outputs": [
    {
     "data": {
      "text/plain": [
       "<langchain_text_splitters.character.RecursiveCharacterTextSplitter at 0x1cbcc216d50>"
      ]
     },
     "execution_count": 17,
     "metadata": {},
     "output_type": "execute_result"
    }
   ],
   "source": [
    "text_splitter"
   ]
  },
  {
   "cell_type": "code",
   "execution_count": 18,
   "id": "635abb5e-5662-42d7-8405-f80a7c3fd15f",
   "metadata": {},
   "outputs": [],
   "source": [
    "#let us load chunks\n",
    "mychunks=text_splitter.split_documents(mydocuments)"
   ]
  },
  {
   "cell_type": "code",
   "execution_count": 19,
   "id": "fb595e2b-50ed-417b-be8f-8024fe0d6c75",
   "metadata": {},
   "outputs": [
    {
     "data": {
      "text/plain": [
       "list"
      ]
     },
     "execution_count": 19,
     "metadata": {},
     "output_type": "execute_result"
    }
   ],
   "source": [
    "type(mychunks)"
   ]
  },
  {
   "cell_type": "code",
   "execution_count": 20,
   "id": "7f148f02-0c1e-4be7-816c-1ae76d332fe5",
   "metadata": {},
   "outputs": [
    {
     "name": "stdout",
     "output_type": "stream",
     "text": [
      "page_content='Integrated Annual Report 2024-25\n",
      "2024-25\n",
      "Integrated Annual Report' metadata={'producer': 'Adobe PDF Library 17.0', 'creator': 'Adobe InDesign 20.3 (Windows)', 'creationdate': '2025-05-27T23:03:32+05:30', 'moddate': '2025-06-09T17:12:34+00:00', 'subject': 'The TCS’ FY 2024-25 (FY 2025) Integrated Annual Report highlights the rapidly changing world and role of technology in addressing business problems.', 'title': 'TCS Integrated Annual Report 2024-25', 'trapped': '/false', 'source': 'tcs report.pdf', 'total_pages': 336, 'page': 0, 'page_label': '1'}\n"
     ]
    }
   ],
   "source": [
    "print(mychunks[0])"
   ]
  },
  {
   "cell_type": "code",
   "execution_count": 21,
   "id": "ac9c5aeb-f7e0-41a7-ac0a-b9fe2c21c0e8",
   "metadata": {},
   "outputs": [
    {
     "name": "stdout",
     "output_type": "stream",
     "text": [
      "page_content='03 March 1839 – 19 May 1904\n",
      "Jamsetji Nusserwanji Tata\n",
      "Our Founder\n",
      "In a free enterprise, the' metadata={'producer': 'Adobe PDF Library 17.0', 'creator': 'Adobe InDesign 20.3 (Windows)', 'creationdate': '2025-05-27T23:03:32+05:30', 'moddate': '2025-06-09T17:12:34+00:00', 'subject': 'The TCS’ FY 2024-25 (FY 2025) Integrated Annual Report highlights the rapidly changing world and role of technology in addressing business problems.', 'title': 'TCS Integrated Annual Report 2024-25', 'trapped': '/false', 'source': 'tcs report.pdf', 'total_pages': 336, 'page': 1, 'page_label': '2'}\n"
     ]
    }
   ],
   "source": [
    "print(mychunks[1])"
   ]
  }
 ],
 "metadata": {
  "kernelspec": {
   "display_name": "Python 3 (ipykernel)",
   "language": "python",
   "name": "python3"
  },
  "language_info": {
   "codemirror_mode": {
    "name": "ipython",
    "version": 3
   },
   "file_extension": ".py",
   "mimetype": "text/x-python",
   "name": "python",
   "nbconvert_exporter": "python",
   "pygments_lexer": "ipython3",
   "version": "3.13.5"
  }
 },
 "nbformat": 4,
 "nbformat_minor": 5
}
